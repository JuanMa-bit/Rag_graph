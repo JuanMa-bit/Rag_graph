{
 "cells": [
  {
   "cell_type": "markdown",
   "metadata": {},
   "source": [
    "## Notebook de prueba de conexión y funcionamiento de metodos asociados a Neo4j"
   ]
  },
  {
   "cell_type": "code",
   "execution_count": 1,
   "metadata": {},
   "outputs": [],
   "source": [
    "import sys\n",
    "sys.path.append('/Users/jucampo/Desktop/Ideas/Podcast/RAG_GRAPH/Rag_graph/')\n",
    "from dataBases.Neo4j.conection_create import Neo4jConnection"
   ]
  },
  {
   "cell_type": "code",
   "execution_count": 2,
   "metadata": {},
   "outputs": [],
   "source": [
    "connectionNeo4j = Neo4jConnection()"
   ]
  },
  {
   "cell_type": "markdown",
   "metadata": {},
   "source": [
    "* Comenzamos por verificar que las credenciales y la conexión son exitosas"
   ]
  },
  {
   "cell_type": "code",
   "execution_count": 3,
   "metadata": {},
   "outputs": [
    {
     "name": "stdout",
     "output_type": "stream",
     "text": [
      "La conexión fue exitosa: <Record 1=1>\n"
     ]
    }
   ],
   "source": [
    "connectionNeo4j.verify_connection()"
   ]
  },
  {
   "cell_type": "markdown",
   "metadata": {},
   "source": [
    "* Probamos agregar un nodo a la base de datos"
   ]
  },
  {
   "cell_type": "code",
   "execution_count": 5,
   "metadata": {},
   "outputs": [],
   "source": [
    "connectionNeo4j.execute_operation(\"add_node\",\"entity\", \"Juan\")\n",
    "connectionNeo4j.execute_operation(\"add_node\",\"entity\", \"Laura\")\n",
    "connectionNeo4j.execute_operation(\"add_node\",\"entity\", \"Natalia\")"
   ]
  },
  {
   "cell_type": "code",
   "execution_count": 6,
   "metadata": {},
   "outputs": [],
   "source": [
    "connectionNeo4j.execute_operation(\"create_relationship\", \"Juan\",\"entity\",\"Laura\",\"entity\",\"Esposos\")"
   ]
  },
  {
   "cell_type": "code",
   "execution_count": 7,
   "metadata": {},
   "outputs": [],
   "source": [
    "connectionNeo4j.execute_operation(\"create_relationship\", \"Natalia\",\"entity\",\"Laura\",\"entity\",\"Hermanas\")"
   ]
  },
  {
   "cell_type": "code",
   "execution_count": 8,
   "metadata": {},
   "outputs": [],
   "source": [
    "connectionNeo4j.execute_operation(\"add_attributes_to_node\", \"entity\",\"Juan\",{\"edad\":29})\n",
    "connectionNeo4j.execute_operation(\"add_attributes_to_node\", \"entity\",\"Laura\",{\"edad\":32})"
   ]
  },
  {
   "cell_type": "code",
   "execution_count": 9,
   "metadata": {},
   "outputs": [],
   "source": [
    "connectionNeo4j.execute_operation(\"add_attribute_to_relationship\", \"Juan1\",\"Juan2\",\"entity\",\"amigos\",\"peso\",\"el peso es 32\")"
   ]
  },
  {
   "cell_type": "code",
   "execution_count": 4,
   "metadata": {},
   "outputs": [],
   "source": [
    "connectionNeo4j.execute_operation(\"delete_all_nodes\")"
   ]
  },
  {
   "cell_type": "code",
   "execution_count": null,
   "metadata": {},
   "outputs": [],
   "source": []
  }
 ],
 "metadata": {
  "kernelspec": {
   "display_name": "rag_env",
   "language": "python",
   "name": "python3"
  },
  "language_info": {
   "codemirror_mode": {
    "name": "ipython",
    "version": 3
   },
   "file_extension": ".py",
   "mimetype": "text/x-python",
   "name": "python",
   "nbconvert_exporter": "python",
   "pygments_lexer": "ipython3",
   "version": "3.8.10"
  }
 },
 "nbformat": 4,
 "nbformat_minor": 2
}
