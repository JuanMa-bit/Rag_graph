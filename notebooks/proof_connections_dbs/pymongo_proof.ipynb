{
 "cells": [
  {
   "cell_type": "code",
   "execution_count": 1,
   "metadata": {},
   "outputs": [],
   "source": [
    "import sys\n",
    "sys.path.append('/Users/jucampo/Desktop/Ideas/Podcast/RAG_GRAPH/Rag_graph/')\n",
    "from dataBases.MongoDB.conection_create import PymongoConnection"
   ]
  },
  {
   "cell_type": "code",
   "execution_count": 2,
   "metadata": {},
   "outputs": [],
   "source": [
    "pymongo = PymongoConnection()"
   ]
  },
  {
   "cell_type": "code",
   "execution_count": 3,
   "metadata": {},
   "outputs": [
    {
     "name": "stdout",
     "output_type": "stream",
     "text": [
      "server is up.\n"
     ]
    }
   ],
   "source": [
    "pymongo.verify_connection()"
   ]
  },
  {
   "cell_type": "code",
   "execution_count": 4,
   "metadata": {},
   "outputs": [
    {
     "data": {
      "text/plain": [
       "['admin', 'config', 'dbprueba1', 'local', 'podcast', 'proof2']"
      ]
     },
     "execution_count": 4,
     "metadata": {},
     "output_type": "execute_result"
    }
   ],
   "source": [
    "pymongo.get_db_list()"
   ]
  },
  {
   "cell_type": "code",
   "execution_count": 4,
   "metadata": {},
   "outputs": [
    {
     "name": "stdout",
     "output_type": "stream",
     "text": [
      "The database not exists.\n"
     ]
    }
   ],
   "source": [
    "pymongo.verify_db_exist(\"topics_proof\")"
   ]
  },
  {
   "cell_type": "code",
   "execution_count": 14,
   "metadata": {},
   "outputs": [],
   "source": [
    "pymongo.create_db(\"topics_proof\")\n",
    "pymongo.create_collection(\"topics_proof\",\"topics_proof_collection\")\n",
    "document_list = [\n",
    "  { \"Topic\": \"Music\", \"url\": \"https://123\"},\n",
    "  { \"Topic\": \"Sports\", \"url\": \"https://124\"},\n",
    "  { \"Topic\": \"Cine\", \"url\": \"https://125\"},\n",
    "  { \"Topic\": \"Console url\", \"address\": \"https://126\"}\n",
    "]\n",
    "pymongo.insert_many_documents(\"topics_proof\",\"topics_proof_collection\", document_list)"
   ]
  },
  {
   "cell_type": "code",
   "execution_count": 15,
   "metadata": {},
   "outputs": [
    {
     "name": "stdout",
     "output_type": "stream",
     "text": [
      "The database exists.\n"
     ]
    }
   ],
   "source": [
    "pymongo.verify_db_exist(\"topics_proof\")"
   ]
  },
  {
   "cell_type": "code",
   "execution_count": 16,
   "metadata": {},
   "outputs": [
    {
     "data": {
      "text/plain": [
       "['admin',\n",
       " 'config',\n",
       " 'dbprueba1',\n",
       " 'dbprueba2',\n",
       " 'dbprueba3',\n",
       " 'local',\n",
       " 'podcast',\n",
       " 'proof2',\n",
       " 'topics_proof']"
      ]
     },
     "execution_count": 16,
     "metadata": {},
     "output_type": "execute_result"
    }
   ],
   "source": [
    "pymongo.get_db_list()"
   ]
  }
 ],
 "metadata": {
  "kernelspec": {
   "display_name": "Python 3",
   "language": "python",
   "name": "python3"
  },
  "language_info": {
   "codemirror_mode": {
    "name": "ipython",
    "version": 3
   },
   "file_extension": ".py",
   "mimetype": "text/x-python",
   "name": "python",
   "nbconvert_exporter": "python",
   "pygments_lexer": "ipython3",
   "version": "3.11.0"
  }
 },
 "nbformat": 4,
 "nbformat_minor": 2
}
